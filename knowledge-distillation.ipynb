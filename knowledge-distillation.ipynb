{
 "cells": [
  {
   "cell_type": "markdown",
   "metadata": {},
   "source": [
    "## Knowledge distillation tutorial\n",
    "\n",
    "This is a Pytorch tutorial for **knowledge distillation**(Hinton et al, 2015)."
   ]
  },
  {
   "cell_type": "code",
   "execution_count": 1,
   "metadata": {},
   "outputs": [
    {
     "name": "stderr",
     "output_type": "stream",
     "text": [
      "/home/xiaohan/anaconda3/envs/pytorch/lib/python3.9/site-packages/tqdm/auto.py:22: TqdmWarning: IProgress not found. Please update jupyter and ipywidgets. See https://ipywidgets.readthedocs.io/en/stable/user_install.html\n",
      "  from .autonotebook import tqdm as notebook_tqdm\n"
     ]
    }
   ],
   "source": [
    "import torch\n",
    "import torchvision\n",
    "from torchvision import datasets\n",
    "import torch.optim as optim\n",
    "import torch.nn.functional\n",
    "import torchvision.transforms as transforms\n",
    "from torch import nn\n",
    "\n",
    "import matplotlib.pyplot as plt\n",
    "import numpy as np"
   ]
  },
  {
   "cell_type": "code",
   "execution_count": 2,
   "metadata": {},
   "outputs": [],
   "source": [
    "transform_train = transforms.Compose([\n",
    "        transforms.ToTensor(),\n",
    "        transforms.Normalize((0.4914, 0.4822, 0.4465),\n",
    "                             (0.2023, 0.1994, 0.2010)),\n",
    "    ])\n",
    "\n",
    "transform_test = transforms.Compose([\n",
    "    transforms.ToTensor(),\n",
    "    transforms.Normalize((0.4914, 0.4822, 0.4465),\n",
    "                        (0.2023, 0.1994, 0.2010)),\n",
    "])"
   ]
  },
  {
   "cell_type": "code",
   "execution_count": 3,
   "metadata": {},
   "outputs": [],
   "source": [
    "training_data = datasets.CIFAR10(\n",
    "    root=\"~/data\",\n",
    "    train=True,\n",
    "    download=False,\n",
    "    transform=transform_train\n",
    ")\n",
    "test_data = datasets.CIFAR10(\n",
    "    root=\"~/data\",\n",
    "    train=False,\n",
    "    download=False,\n",
    "    transform=transform_test\n",
    ")"
   ]
  },
  {
   "cell_type": "code",
   "execution_count": 4,
   "metadata": {},
   "outputs": [],
   "source": [
    "# parameters\n",
    "temperature = 5.\n",
    "soft_targets_weight = 100.\n",
    "label_loss_weight = 0.5\n",
    "\n",
    "max_epoch = 50\n",
    "batch_size = 256\n",
    "lr = 1e-3\n",
    "\n",
    "use_cuda = torch.cuda.is_available()"
   ]
  },
  {
   "cell_type": "code",
   "execution_count": 5,
   "metadata": {},
   "outputs": [],
   "source": [
    "from random import shuffle\n",
    "\n",
    "\n",
    "trainloader = torch.utils.data.DataLoader(training_data,\n",
    "                                          batch_size=batch_size,\n",
    "                                          shuffle=True,\n",
    "                                          num_workers=8)\n",
    "testloader = torch.utils.data.DataLoader(test_data,\n",
    "                                        batch_size=batch_size,\n",
    "                                        shuffle=False,\n",
    "                                        num_workers=8)"
   ]
  },
  {
   "cell_type": "markdown",
   "metadata": {},
   "source": [
    "**Models**:  \n",
    "The small model(student model): VGG11  \n",
    "The large model(teacher model): VGG16"
   ]
  },
  {
   "cell_type": "code",
   "execution_count": 6,
   "metadata": {},
   "outputs": [],
   "source": [
    "StudentModel = torchvision.models.vgg11_bn()\n",
    "TeacherModel = torchvision.models.vgg16_bn(weights=\"DEFAULT\")"
   ]
  },
  {
   "cell_type": "markdown",
   "metadata": {},
   "source": [
    "**Loss Functions**:  \n",
    "KL Divergence loss for soft targets  \n",
    "Cross entropy loss for true label loss"
   ]
  },
  {
   "cell_type": "code",
   "execution_count": 7,
   "metadata": {},
   "outputs": [],
   "source": [
    "kl_div_loss = nn.KLDivLoss(log_target=True)\n",
    "loss_func = nn.CrossEntropyLoss()"
   ]
  },
  {
   "cell_type": "code",
   "execution_count": 8,
   "metadata": {},
   "outputs": [],
   "source": [
    "optimizer = optim.SGD(StudentModel.parameters(), lr=lr, momentum=0.9,\n",
    "                      weight_decay=5e-4)"
   ]
  },
  {
   "cell_type": "code",
   "execution_count": 9,
   "metadata": {},
   "outputs": [],
   "source": [
    "if use_cuda:\n",
    "    StudentModel.cuda()\n",
    "    TeacherModel.cuda()"
   ]
  },
  {
   "cell_type": "code",
   "execution_count": 10,
   "metadata": {},
   "outputs": [],
   "source": [
    "def counter(outputs, labels):\n",
    "    pre = torch.max(outputs.data.cpu(), 1)[1].numpy()\n",
    "    y = labels.data.cpu().numpy()\n",
    "    correct_num = (pre == y).sum()\n",
    "    return correct_num"
   ]
  },
  {
   "cell_type": "markdown",
   "metadata": {},
   "source": [
    "function (1):  \n",
    "$$p_i = \\frac{\\exp (\\frac{v_i}{T})}{\\sum_j \\exp (\\frac{v_j}{T})}$$\n",
    "\n",
    "function (2):  \n",
    "$$q_i = \\frac{\\exp (\\frac{z_i}{T})}{\\sum_j \\exp (\\frac{z_j}{T})}$$"
   ]
  },
  {
   "cell_type": "code",
   "execution_count": 11,
   "metadata": {},
   "outputs": [],
   "source": [
    "summary = {\"train_acc\": [], \"val_acc\": []}"
   ]
  },
  {
   "cell_type": "code",
   "execution_count": 13,
   "metadata": {},
   "outputs": [
    {
     "name": "stdout",
     "output_type": "stream",
     "text": [
      "Epoch: 1/50, training acc:  45.50, val acc:  53.80\n",
      "Epoch: 2/50, training acc:  53.68, val acc:  57.33\n",
      "Epoch: 3/50, training acc:  59.75, val acc:  60.87\n",
      "Epoch: 4/50, training acc:  64.49, val acc:  62.17\n",
      "Epoch: 5/50, training acc:  68.55, val acc:  63.75\n",
      "Epoch: 6/50, training acc:  72.54, val acc:  65.05\n",
      "Epoch: 7/50, training acc:  76.47, val acc:  65.44\n",
      "Epoch: 8/50, training acc:  80.21, val acc:  66.37\n",
      "Epoch: 9/50, training acc:  84.07, val acc:  66.99\n",
      "Epoch: 10/50, training acc:  87.55, val acc:  66.94\n",
      "Epoch: 11/50, training acc:  90.56, val acc:  66.16\n",
      "Epoch: 12/50, training acc:  93.24, val acc:  67.17\n",
      "Epoch: 13/50, training acc:  95.68, val acc:  66.69\n",
      "Epoch: 14/50, training acc:  97.29, val acc:  67.07\n",
      "Epoch: 15/50, training acc:  98.33, val acc:  67.48\n",
      "Epoch: 16/50, training acc:  98.83, val acc:  67.46\n",
      "Epoch: 17/50, training acc:  99.38, val acc:  66.99\n",
      "Epoch: 18/50, training acc:  99.59, val acc:  67.78\n",
      "Epoch: 19/50, training acc:  99.76, val acc:  67.58\n",
      "Epoch: 20/50, training acc:  99.88, val acc:  67.53\n",
      "Epoch: 21/50, training acc:  99.92, val acc:  67.62\n",
      "Epoch: 22/50, training acc:  99.93, val acc:  67.89\n",
      "Epoch: 23/50, training acc:  99.89, val acc:  68.09\n",
      "Epoch: 24/50, training acc:  99.96, val acc:  67.84\n",
      "Epoch: 25/50, training acc:  99.95, val acc:  67.86\n",
      "Epoch: 26/50, training acc:  99.98, val acc:  67.93\n",
      "Epoch: 27/50, training acc:  99.98, val acc:  68.14\n",
      "Epoch: 28/50, training acc:  99.97, val acc:  68.00\n",
      "Epoch: 29/50, training acc:  99.98, val acc:  68.02\n",
      "Epoch: 30/50, training acc:  99.99, val acc:  67.75\n",
      "Epoch: 31/50, training acc:  99.99, val acc:  67.80\n",
      "Epoch: 32/50, training acc:  99.98, val acc:  68.18\n",
      "Epoch: 33/50, training acc:  99.97, val acc:  67.85\n",
      "Epoch: 34/50, training acc:  99.99, val acc:  68.05\n",
      "Epoch: 35/50, training acc:  99.99, val acc:  67.95\n",
      "Epoch: 36/50, training acc:  99.99, val acc:  67.74\n",
      "Epoch: 37/50, training acc:  99.98, val acc:  68.09\n",
      "Epoch: 38/50, training acc:  99.98, val acc:  67.62\n",
      "Epoch: 39/50, training acc:  99.99, val acc:  67.82\n",
      "Epoch: 40/50, training acc:  99.99, val acc:  67.99\n",
      "Epoch: 41/50, training acc:  99.99, val acc:  67.82\n",
      "Epoch: 42/50, training acc:  99.99, val acc:  67.81\n",
      "Epoch: 43/50, training acc: 100.00, val acc:  67.86\n",
      "Epoch: 44/50, training acc:  99.99, val acc:  67.86\n",
      "Epoch: 45/50, training acc:  99.99, val acc:  67.74\n",
      "Epoch: 46/50, training acc: 100.00, val acc:  67.86\n",
      "Epoch: 47/50, training acc: 100.00, val acc:  67.97\n",
      "Epoch: 48/50, training acc:  99.99, val acc:  68.04\n",
      "Epoch: 49/50, training acc:  99.98, val acc:  67.78\n",
      "Epoch: 50/50, training acc:  99.98, val acc:  67.65\n"
     ]
    }
   ],
   "source": [
    "for epoch in range(max_epoch):\n",
    "\n",
    "    # training mode for the student model\n",
    "    StudentModel.train()\n",
    "    # evaluation mode for the teacher model\n",
    "    TeacherModel.eval()\n",
    "\n",
    "    correct_num = 0\n",
    "    total_num = 0\n",
    "    \n",
    "    for i, (train_batch, labels_batch) in enumerate(trainloader):\n",
    "        if use_cuda:\n",
    "            train_batch, labels_batch = train_batch.cuda(), labels_batch.cuda()\n",
    "        \n",
    "        # get the outputs from the teacher model\n",
    "        with torch.no_grad():\n",
    "            outputs_teacher_batch = TeacherModel(train_batch)\n",
    "        \n",
    "        # get the outputs from the student model\n",
    "        outputs_student_batch = StudentModel(train_batch)\n",
    "\n",
    "        # soft targets, function (1)\n",
    "        soft_targets = nn.functional.log_softmax(outputs_teacher_batch / temperature, dim=-1)\n",
    "        # soft prediction, temperature adjusted probabilities of the small model, function (2)\n",
    "        soft_prob = nn.functional.log_softmax(outputs_student_batch / temperature, dim=-1)\n",
    "\n",
    "        # Calculate the soft targets loss\n",
    "        soft_targets_loss = kl_div_loss(soft_prob, soft_targets)\n",
    "        # Calculate the true label loss\n",
    "        label_loss = loss_func(outputs_student_batch, labels_batch)\n",
    "\n",
    "        # Weighted sum of the two losses\n",
    "        loss = soft_targets_weight * soft_targets_loss + label_loss_weight * label_loss\n",
    "\n",
    "        # clear previous gradients, compute gradients of all variables wrt loss\n",
    "        optimizer.zero_grad()\n",
    "        loss.backward()\n",
    "\n",
    "        # performs updates using calculated gradients\n",
    "        optimizer.step()\n",
    "\n",
    "        correct_num_batch = counter(outputs_student_batch, labels_batch)\n",
    "        correct_num += correct_num_batch\n",
    "        total_num += len(labels_batch)\n",
    "    \n",
    "    # traing accuracy and loss\n",
    "    train_acc = correct_num / total_num * 100.\n",
    "    summary[\"train_acc\"].append(train_acc)\n",
    "\n",
    "    # evaluation\n",
    "    StudentModel.eval()\n",
    "    correct_num = 0\n",
    "    total_num = 0\n",
    "    for i, (val_batch, labels_val_batch) in enumerate(testloader):\n",
    "        if use_cuda:\n",
    "            val_batch, labels_val_batch = val_batch.cuda(), labels_val_batch.cuda()\n",
    "        outputs_val_batch = StudentModel(val_batch)\n",
    "        correct_num_batch = counter(outputs_val_batch, labels_val_batch)\n",
    "        correct_num += correct_num_batch\n",
    "        total_num += len(labels_val_batch)\n",
    "    val_acc = correct_num / total_num * 100.\n",
    "    summary[\"val_acc\"].append(val_acc)\n",
    "\n",
    "    print(\"Epoch: {}/{}, training acc: {:>6.2f}, val acc: {:>6.2f}\".format(epoch+1, max_epoch, train_acc, val_acc))\n",
    "\n"
   ]
  },
  {
   "cell_type": "code",
   "execution_count": 14,
   "metadata": {},
   "outputs": [
    {
     "data": {
      "image/png": "[encoded data removed]",
      "text/plain": [
       "<Figure size 432x288 with 1 Axes>"
      ]
     },
     "metadata": {
      "needs_background": "light"
     },
     "output_type": "display_data"
    }
   ],
   "source": [
    "plt.plot(summary[\"train_acc\"], color='b', label = \"train\")\n",
    "plt.plot(summary[\"val_acc\"], color='r', label = \"val\")\n",
    "plt.xlabel(\"epochs\")\n",
    "plt.ylabel(\"accuracy(%)\")\n",
    "plt.legend()\n",
    "plt.show()"
   ]
  },
  {
   "cell_type": "markdown",
   "metadata": {},
   "source": [
    "Reference:  \n",
    "[1] https://pytorch.org/tutorials/beginner/basics/data_tutorial.html  \n",
    "[2] https://nn.labml.ai/distillation/index.html  \n",
    "[3] https://github.com/peterliht/knowledge-distillation-pytorch.git"
   ]
  }
 ],
 "metadata": {
  "kernelspec": {
   "display_name": "Python 3.9.12 ('pytorch')",
   "language": "python",
   "name": "python3"
  },
  "language_info": {
   "codemirror_mode": {
    "name": "ipython",
    "version": 3
   },
   "file_extension": ".py",
   "mimetype": "text/x-python",
   "name": "python",
   "nbconvert_exporter": "python",
   "pygments_lexer": "ipython3",
   "version": "3.9.12"
  },
  "orig_nbformat": 4,
  "vscode": {
   "interpreter": {
    "hash": "9e1b80d83d335b4008d76483b2fad8f7fc963cfb5612ee5cc62ebdf7c2a965ce"
   }
  }
 },
 "nbformat": 4,
 "nbformat_minor": 2
}
