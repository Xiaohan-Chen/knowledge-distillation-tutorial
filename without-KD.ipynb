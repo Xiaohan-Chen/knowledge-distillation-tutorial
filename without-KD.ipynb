{
 "cells": [
  {
   "cell_type": "markdown",
   "metadata": {},
   "source": [
    "This is a comparison experiment in which only the student model is used to test the performance of the VGG11 network."
   ]
  },
  {
   "cell_type": "code",
   "execution_count": 1,
   "metadata": {},
   "outputs": [
    {
     "name": "stderr",
     "output_type": "stream",
     "text": [
      "/home/xiaohan/anaconda3/envs/pytorch/lib/python3.9/site-packages/tqdm/auto.py:22: TqdmWarning: IProgress not found. Please update jupyter and ipywidgets. See https://ipywidgets.readthedocs.io/en/stable/user_install.html\n",
      "  from .autonotebook import tqdm as notebook_tqdm\n"
     ]
    }
   ],
   "source": [
    "import torch\n",
    "import torchvision\n",
    "from torchvision import datasets\n",
    "import torch.optim as optim\n",
    "import torch.nn.functional\n",
    "import torchvision.transforms as transforms\n",
    "from torch import nn\n",
    "\n",
    "import matplotlib.pyplot as plt\n",
    "import numpy as np"
   ]
  },
  {
   "cell_type": "code",
   "execution_count": 2,
   "metadata": {},
   "outputs": [],
   "source": [
    "transform_train = transforms.Compose([\n",
    "        transforms.ToTensor(),\n",
    "        transforms.Normalize((0.4914, 0.4822, 0.4465),\n",
    "                             (0.2023, 0.1994, 0.2010)),\n",
    "    ])\n",
    "\n",
    "transform_test = transforms.Compose([\n",
    "    transforms.ToTensor(),\n",
    "    transforms.Normalize((0.4914, 0.4822, 0.4465),\n",
    "                        (0.2023, 0.1994, 0.2010)),\n",
    "])"
   ]
  },
  {
   "cell_type": "code",
   "execution_count": 3,
   "metadata": {},
   "outputs": [],
   "source": [
    "training_data = datasets.CIFAR10(\n",
    "    root=\"~/data\",\n",
    "    train=True,\n",
    "    download=False,\n",
    "    transform=transform_train\n",
    ")\n",
    "test_data = datasets.CIFAR10(\n",
    "    root=\"~/data\",\n",
    "    train=False,\n",
    "    download=False,\n",
    "    transform=transform_test\n",
    ")"
   ]
  },
  {
   "cell_type": "code",
   "execution_count": 4,
   "metadata": {},
   "outputs": [],
   "source": [
    "# parameters\n",
    "max_epoch = 50\n",
    "batch_size = 256\n",
    "lr = 1e-3\n",
    "\n",
    "use_cuda = torch.cuda.is_available()"
   ]
  },
  {
   "cell_type": "code",
   "execution_count": 5,
   "metadata": {},
   "outputs": [],
   "source": [
    "\n",
    "\n",
    "trainloader = torch.utils.data.DataLoader(training_data,\n",
    "                                          batch_size=batch_size,\n",
    "                                          shuffle=True,\n",
    "                                          num_workers=8)\n",
    "testloader = torch.utils.data.DataLoader(test_data,\n",
    "                                        batch_size=batch_size,\n",
    "                                        shuffle=False,\n",
    "                                        num_workers=8)"
   ]
  },
  {
   "cell_type": "code",
   "execution_count": 6,
   "metadata": {},
   "outputs": [],
   "source": [
    "model = torchvision.models.resnet18()"
   ]
  },
  {
   "cell_type": "code",
   "execution_count": 7,
   "metadata": {},
   "outputs": [],
   "source": [
    "loss_func = nn.CrossEntropyLoss()"
   ]
  },
  {
   "cell_type": "code",
   "execution_count": 8,
   "metadata": {},
   "outputs": [],
   "source": [
    "optimizer = optim.SGD(model.parameters(), lr=lr, momentum=0.9,\n",
    "                      weight_decay=5e-4)"
   ]
  },
  {
   "cell_type": "code",
   "execution_count": 9,
   "metadata": {},
   "outputs": [],
   "source": [
    "if use_cuda:\n",
    "    model.cuda()"
   ]
  },
  {
   "cell_type": "code",
   "execution_count": 10,
   "metadata": {},
   "outputs": [],
   "source": [
    "def counter(outputs, labels):\n",
    "    pre = torch.max(outputs.data.cpu(), 1)[1].numpy()\n",
    "    y = labels.data.cpu().numpy()\n",
    "    correct_num = (pre == y).sum()\n",
    "    return correct_num"
   ]
  },
  {
   "cell_type": "code",
   "execution_count": 11,
   "metadata": {},
   "outputs": [
    {
     "name": "stdout",
     "output_type": "stream",
     "text": [
      "Epoch: 1/50, training acc:  33.68, val acc:  44.31\n",
      "Epoch: 2/50, training acc:  49.26, val acc:  49.06\n",
      "Epoch: 3/50, training acc:  55.90, val acc:  52.95\n",
      "Epoch: 4/50, training acc:  61.40, val acc:  55.33\n",
      "Epoch: 5/50, training acc:  66.64, val acc:  56.83\n",
      "Epoch: 6/50, training acc:  71.85, val acc:  57.20\n",
      "Epoch: 7/50, training acc:  76.92, val acc:  57.44\n",
      "Epoch: 8/50, training acc:  82.35, val acc:  57.13\n",
      "Epoch: 9/50, training acc:  87.27, val acc:  57.88\n",
      "Epoch: 10/50, training acc:  91.79, val acc:  58.25\n",
      "Epoch: 11/50, training acc:  95.34, val acc:  58.00\n",
      "Epoch: 12/50, training acc:  97.76, val acc:  58.05\n",
      "Epoch: 13/50, training acc:  98.97, val acc:  57.99\n",
      "Epoch: 14/50, training acc:  99.54, val acc:  58.67\n",
      "Epoch: 15/50, training acc:  99.74, val acc:  58.56\n",
      "Epoch: 16/50, training acc:  99.89, val acc:  58.48\n",
      "Epoch: 17/50, training acc:  99.94, val acc:  58.66\n",
      "Epoch: 18/50, training acc:  99.96, val acc:  58.69\n",
      "Epoch: 19/50, training acc:  99.98, val acc:  58.73\n",
      "Epoch: 20/50, training acc:  99.98, val acc:  58.89\n",
      "Epoch: 21/50, training acc:  99.98, val acc:  58.74\n",
      "Epoch: 22/50, training acc:  99.98, val acc:  58.56\n",
      "Epoch: 23/50, training acc:  99.99, val acc:  58.63\n",
      "Epoch: 24/50, training acc: 100.00, val acc:  58.91\n",
      "Epoch: 25/50, training acc: 100.00, val acc:  58.89\n",
      "Epoch: 26/50, training acc:  99.99, val acc:  58.75\n",
      "Epoch: 27/50, training acc:  99.98, val acc:  58.40\n",
      "Epoch: 28/50, training acc:  99.96, val acc:  58.55\n",
      "Epoch: 29/50, training acc: 100.00, val acc:  58.81\n",
      "Epoch: 30/50, training acc: 100.00, val acc:  58.76\n",
      "Epoch: 31/50, training acc:  99.99, val acc:  59.05\n",
      "Epoch: 32/50, training acc:  99.99, val acc:  58.76\n",
      "Epoch: 33/50, training acc: 100.00, val acc:  58.66\n",
      "Epoch: 34/50, training acc:  99.99, val acc:  58.55\n",
      "Epoch: 35/50, training acc:  99.99, val acc:  58.61\n",
      "Epoch: 36/50, training acc:  99.97, val acc:  58.59\n",
      "Epoch: 37/50, training acc:  99.98, val acc:  58.99\n",
      "Epoch: 38/50, training acc:  99.95, val acc:  58.51\n",
      "Epoch: 39/50, training acc: 100.00, val acc:  58.65\n",
      "Epoch: 40/50, training acc:  99.99, val acc:  58.69\n",
      "Epoch: 41/50, training acc:  99.99, val acc:  58.74\n",
      "Epoch: 42/50, training acc:  99.96, val acc:  58.34\n",
      "Epoch: 43/50, training acc:  99.99, val acc:  58.55\n",
      "Epoch: 44/50, training acc: 100.00, val acc:  58.48\n",
      "Epoch: 45/50, training acc: 100.00, val acc:  58.39\n",
      "Epoch: 46/50, training acc: 100.00, val acc:  58.69\n",
      "Epoch: 47/50, training acc:  99.99, val acc:  58.57\n",
      "Epoch: 48/50, training acc: 100.00, val acc:  58.40\n",
      "Epoch: 49/50, training acc: 100.00, val acc:  58.84\n",
      "Epoch: 50/50, training acc:  99.99, val acc:  58.53\n"
     ]
    }
   ],
   "source": [
    "summary = {\"train_acc\": [], \"val_acc\": []}\n",
    "for epoch in range(max_epoch):\n",
    "\n",
    "    model.train()\n",
    "\n",
    "    correct_num = 0\n",
    "    total_num = 0\n",
    "    for i, (train_batch, labels_batch) in enumerate(trainloader):\n",
    "        if use_cuda:\n",
    "            train_batch, labels_batch = train_batch.cuda(), labels_batch.cuda()\n",
    "        \n",
    "        # train\n",
    "        outputs_batch = model(train_batch)\n",
    "\n",
    "        loss = loss_func(outputs_batch, labels_batch)\n",
    "\n",
    "        # clear previous gradients, compute gradients of all variables wrt loss\n",
    "        optimizer.zero_grad()\n",
    "        loss.backward()\n",
    "\n",
    "        # performs updates using calculated gradients\n",
    "        optimizer.step()\n",
    "        correct_num_batch = counter(outputs_batch, labels_batch)\n",
    "        correct_num += correct_num_batch\n",
    "        total_num += len(labels_batch)\n",
    "    \n",
    "    # traing accuracy and loss\n",
    "    train_acc = correct_num / total_num * 100.\n",
    "    summary[\"train_acc\"].append(train_acc)\n",
    "\n",
    "\n",
    "    # evaluation\n",
    "    correct_num = 0\n",
    "    total_num = 0\n",
    "    model.eval()\n",
    "    for i, (val_batch, labels_val_batch) in enumerate(testloader):\n",
    "        if use_cuda:\n",
    "            val_batch, labels_val_batch = val_batch.cuda(), labels_val_batch.cuda()\n",
    "        \n",
    "        outputs_val_batch = model(val_batch)\n",
    "        correct_num_batch = counter(outputs_val_batch, labels_val_batch)\n",
    "        correct_num += correct_num_batch\n",
    "        total_num += len(labels_val_batch)\n",
    "    val_acc = correct_num / total_num * 100.\n",
    "    summary[\"val_acc\"].append(val_acc)\n",
    "\n",
    "    print(\"Epoch: {}/{}, training acc: {:>6.2f}, val acc: {:>6.2f}\".format(epoch+1, max_epoch, train_acc, val_acc))\n",
    "            "
   ]
  },
  {
   "cell_type": "code",
   "execution_count": 13,
   "metadata": {},
   "outputs": [
    {
     "data": {
      "image/png": "[encoded data removed]",
      "text/plain": [
       "<Figure size 432x288 with 1 Axes>"
      ]
     },
     "metadata": {
      "needs_background": "light"
     },
     "output_type": "display_data"
    }
   ],
   "source": [
    "plt.plot(summary[\"train_acc\"], color='b', label = \"train\")\n",
    "plt.plot(summary[\"val_acc\"], color='r', label = \"val\")\n",
    "plt.xlabel(\"epochs\")\n",
    "plt.ylabel(\"accuracy(%)\")\n",
    "plt.legend()\n",
    "plt.show()"
   ]
  }
 ],
 "metadata": {
  "kernelspec": {
   "display_name": "Python 3.9.12 ('pytorch')",
   "language": "python",
   "name": "python3"
  },
  "language_info": {
   "codemirror_mode": {
    "name": "ipython",
    "version": 3
   },
   "file_extension": ".py",
   "mimetype": "text/x-python",
   "name": "python",
   "nbconvert_exporter": "python",
   "pygments_lexer": "ipython3",
   "version": "3.9.12"
  },
  "orig_nbformat": 4,
  "vscode": {
   "interpreter": {
    "hash": "9e1b80d83d335b4008d76483b2fad8f7fc963cfb5612ee5cc62ebdf7c2a965ce"
   }
  }
 },
 "nbformat": 4,
 "nbformat_minor": 2
}
